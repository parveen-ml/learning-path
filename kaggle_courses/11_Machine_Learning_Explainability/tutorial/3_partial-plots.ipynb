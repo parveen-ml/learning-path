{
 "cells": [
  {
   "cell_type": "markdown",
   "id": "5c078323",
   "metadata": {
    "papermill": {
     "duration": 0.004897,
     "end_time": "2023-04-20T18:03:27.440722",
     "exception": false,
     "start_time": "2023-04-20T18:03:27.435825",
     "status": "completed"
    },
    "tags": []
   },
   "source": [
    "# Partial Dependence Plots\n",
    "\n",
    "While feature importance shows what variables most affect predictions, partial dependence plots show *how* a feature affects predictions.\n",
    "\n",
    "This is useful to answer questions like:\n",
    "\n",
    "* Controlling for all other house features, what impact do longitude and latitude have on home prices? To restate this, how would similarly sized houses be priced in different areas?\n",
    "\n",
    "* Are predicted health differences between two groups due to differences in their diets, or due to some other factor?\n",
    "\n",
    "If you are familiar with linear or logistic regression models, partial dependence plots can be interpreted similarly to the coefficients in those models.  Though, partial dependence plots on sophisticated models can capture more complex patterns than coefficients from simple models.  If you aren't familiar with linear or logistic regressions, don't worry about this comparison.\n",
    "\n",
    "We will show a couple examples, explain the interpretation of these plots, and then review the code to create these plots.\n",
    "\n",
    "# How it Works\n",
    "\n",
    "Like permutation importance, **partial dependence plots are calculated after a model has been fit.**  The model is fit on real data that has not been artificially manipulated in any way.  \n",
    "\n",
    "In our soccer example, teams may differ in many ways. How many passes they made, shots they took, goals they scored, etc. At first glance, it seems difficult to disentangle the effect of these features.\n",
    "\n",
    "To see how partial plots separate out the effect of each feature, we start by considering a single row of data. For example, that row of data might represent a team that had the ball 50% of the time, made 100 passes, took 10 shots and scored 1 goal.\n",
    "\n",
    "We will use the fitted model to predict our outcome (probability their player won \"man of the match\"). But we **repeatedly alter the value for one variable** to make a series of predictions.  We could predict the outcome if the team had the ball only 40% of the time. We then predict with them having the ball 50% of the time.  Then predict again for 60%.  And so on.  We trace out predicted outcomes (on the vertical axis) as we move from small values of ball possession to large values (on the horizontal axis).\n",
    "\n",
    "In this description, we used only a single row of data.  Interactions between features may cause the plot for a single row to be atypical.  So, we repeat that mental experiment with multiple rows from the original dataset, and we plot the average predicted outcome on the vertical axis.  \n",
    "\n",
    "# Code Example\n",
    "\n",
    "Model building isn't our focus, so we won't focus on the data exploration or model building code."
   ]
  },
  {
   "cell_type": "code",
   "execution_count": 1,
   "id": "28de6745",
   "metadata": {
    "execution": {
     "iopub.execute_input": "2023-04-20T18:03:27.451131Z",
     "iopub.status.busy": "2023-04-20T18:03:27.450032Z",
     "iopub.status.idle": "2023-04-20T18:03:29.039655Z",
     "shell.execute_reply": "2023-04-20T18:03:29.038373Z"
    },
    "papermill": {
     "duration": 1.598061,
     "end_time": "2023-04-20T18:03:29.042710",
     "exception": false,
     "start_time": "2023-04-20T18:03:27.444649",
     "status": "completed"
    },
    "tags": []
   },
   "outputs": [],
   "source": [
    "import numpy as np\n",
    "import pandas as pd\n",
    "from sklearn.model_selection import train_test_split\n",
    "from sklearn.ensemble import RandomForestClassifier\n",
    "from sklearn.tree import DecisionTreeClassifier\n",
    "\n",
    "data = pd.read_csv('../input/fifa-2018-match-statistics/FIFA 2018 Statistics.csv')\n",
    "y = (data['Man of the Match'] == \"Yes\")  # Convert from string \"Yes\"/\"No\" to binary\n",
    "feature_names = [i for i in data.columns if data[i].dtype in [np.int64]]\n",
    "X = data[feature_names]\n",
    "train_X, val_X, train_y, val_y = train_test_split(X, y, random_state=1)\n",
    "tree_model = DecisionTreeClassifier(random_state=0, max_depth=5, min_samples_split=5).fit(train_X, train_y)"
   ]
  },
  {
   "cell_type": "markdown",
   "id": "5b9c8981",
   "metadata": {
    "papermill": {
     "duration": 0.003482,
     "end_time": "2023-04-20T18:03:29.049985",
     "exception": false,
     "start_time": "2023-04-20T18:03:29.046503",
     "status": "completed"
    },
    "tags": []
   },
   "source": [
    "Our first example uses a decision tree, which you can see below. In practice, you'll use more sophistated models for real-world applications."
   ]
  },
  {
   "cell_type": "code",
   "execution_count": 2,
   "id": "38f6d86d",
   "metadata": {
    "execution": {
     "iopub.execute_input": "2023-04-20T18:03:29.059194Z",
     "iopub.status.busy": "2023-04-20T18:03:29.058418Z",
     "iopub.status.idle": "2023-04-20T18:03:29.242933Z",
     "shell.execute_reply": "2023-04-20T18:03:29.241425Z"
    },
    "papermill": {
     "duration": 0.192655,
     "end_time": "2023-04-20T18:03:29.246233",
     "exception": false,
     "start_time": "2023-04-20T18:03:29.053578",
     "status": "completed"
    },
    "tags": []
   },
   "outputs": [
    {
     "data": {
      "image/svg+xml": [
       "<?xml version=\"1.0\" encoding=\"UTF-8\" standalone=\"no\"?>\n",
       "<!DOCTYPE svg PUBLIC \"-//W3C//DTD SVG 1.1//EN\"\n",
       " \"http://www.w3.org/Graphics/SVG/1.1/DTD/svg11.dtd\">\n",
       "<!-- Generated by graphviz version 7.1.0 (20230122.1345)\n",
       " -->\n",
       "<!-- Title: Tree Pages: 1 -->\n",
       "<svg width=\"972pt\" height=\"581pt\"\n",
       " viewBox=\"0.00 0.00 972.00 581.00\" xmlns=\"http://www.w3.org/2000/svg\" xmlns:xlink=\"http://www.w3.org/1999/xlink\">\n",
       "<g id=\"graph0\" class=\"graph\" transform=\"scale(1 1) rotate(0) translate(4 577)\">\n",
       "<title>Tree</title>\n",
       "<polygon fill=\"white\" stroke=\"none\" points=\"-4,4 -4,-577 968,-577 968,4 -4,4\"/>\n",
       "<!-- 0 -->\n",
       "<g id=\"node1\" class=\"node\">\n",
       "<title>0</title>\n",
       "<polygon fill=\"none\" stroke=\"black\" points=\"452.5,-573 297.5,-573 297.5,-505 452.5,-505 452.5,-573\"/>\n",
       "<text text-anchor=\"middle\" x=\"375\" y=\"-557.8\" font-family=\"Helvetica,sans-Serif\" font-size=\"14.00\">Goal Scored &lt;= 0.5</text>\n",
       "<text text-anchor=\"middle\" x=\"375\" y=\"-542.8\" font-family=\"Helvetica,sans-Serif\" font-size=\"14.00\">gini = 0.5</text>\n",
       "<text text-anchor=\"middle\" x=\"375\" y=\"-527.8\" font-family=\"Helvetica,sans-Serif\" font-size=\"14.00\">samples = 96</text>\n",
       "<text text-anchor=\"middle\" x=\"375\" y=\"-512.8\" font-family=\"Helvetica,sans-Serif\" font-size=\"14.00\">value = [48, 48]</text>\n",
       "</g>\n",
       "<!-- 1 -->\n",
       "<g id=\"node2\" class=\"node\">\n",
       "<title>1</title>\n",
       "<polygon fill=\"none\" stroke=\"black\" points=\"365,-469 227,-469 227,-401 365,-401 365,-469\"/>\n",
       "<text text-anchor=\"middle\" x=\"296\" y=\"-453.8\" font-family=\"Helvetica,sans-Serif\" font-size=\"14.00\">On&#45;Target &lt;= 7.5</text>\n",
       "<text text-anchor=\"middle\" x=\"296\" y=\"-438.8\" font-family=\"Helvetica,sans-Serif\" font-size=\"14.00\">gini = 0.142</text>\n",
       "<text text-anchor=\"middle\" x=\"296\" y=\"-423.8\" font-family=\"Helvetica,sans-Serif\" font-size=\"14.00\">samples = 26</text>\n",
       "<text text-anchor=\"middle\" x=\"296\" y=\"-408.8\" font-family=\"Helvetica,sans-Serif\" font-size=\"14.00\">value = [24, 2]</text>\n",
       "</g>\n",
       "<!-- 0&#45;&gt;1 -->\n",
       "<g id=\"edge1\" class=\"edge\">\n",
       "<title>0&#45;&gt;1</title>\n",
       "<path fill=\"none\" stroke=\"black\" d=\"M349.13,-504.6C342.65,-496.24 335.62,-487.15 328.85,-478.41\"/>\n",
       "<polygon fill=\"black\" stroke=\"black\" points=\"331.74,-476.43 322.85,-470.67 326.21,-480.72 331.74,-476.43\"/>\n",
       "<text text-anchor=\"middle\" x=\"318.77\" y=\"-490.57\" font-family=\"Helvetica,sans-Serif\" font-size=\"14.00\">True</text>\n",
       "</g>\n",
       "<!-- 6 -->\n",
       "<g id=\"node7\" class=\"node\">\n",
       "<title>6</title>\n",
       "<polygon fill=\"none\" stroke=\"black\" points=\"527,-469 383,-469 383,-401 527,-401 527,-469\"/>\n",
       "<text text-anchor=\"middle\" x=\"455\" y=\"-453.8\" font-family=\"Helvetica,sans-Serif\" font-size=\"14.00\">Attempts &lt;= 24.0</text>\n",
       "<text text-anchor=\"middle\" x=\"455\" y=\"-438.8\" font-family=\"Helvetica,sans-Serif\" font-size=\"14.00\">gini = 0.451</text>\n",
       "<text text-anchor=\"middle\" x=\"455\" y=\"-423.8\" font-family=\"Helvetica,sans-Serif\" font-size=\"14.00\">samples = 70</text>\n",
       "<text text-anchor=\"middle\" x=\"455\" y=\"-408.8\" font-family=\"Helvetica,sans-Serif\" font-size=\"14.00\">value = [24, 46]</text>\n",
       "</g>\n",
       "<!-- 0&#45;&gt;6 -->\n",
       "<g id=\"edge6\" class=\"edge\">\n",
       "<title>0&#45;&gt;6</title>\n",
       "<path fill=\"none\" stroke=\"black\" d=\"M401.19,-504.6C407.76,-496.24 414.88,-487.15 421.74,-478.41\"/>\n",
       "<polygon fill=\"black\" stroke=\"black\" points=\"424.39,-480.69 427.81,-470.66 418.89,-476.37 424.39,-480.69\"/>\n",
       "<text text-anchor=\"middle\" x=\"431.75\" y=\"-490.59\" font-family=\"Helvetica,sans-Serif\" font-size=\"14.00\">False</text>\n",
       "</g>\n",
       "<!-- 2 -->\n",
       "<g id=\"node3\" class=\"node\">\n",
       "<title>2</title>\n",
       "<polygon fill=\"none\" stroke=\"black\" points=\"226.5,-365 89.5,-365 89.5,-297 226.5,-297 226.5,-365\"/>\n",
       "<text text-anchor=\"middle\" x=\"158\" y=\"-349.8\" font-family=\"Helvetica,sans-Serif\" font-size=\"14.00\">Passes &lt;= 634.0</text>\n",
       "<text text-anchor=\"middle\" x=\"158\" y=\"-334.8\" font-family=\"Helvetica,sans-Serif\" font-size=\"14.00\">gini = 0.077</text>\n",
       "<text text-anchor=\"middle\" x=\"158\" y=\"-319.8\" font-family=\"Helvetica,sans-Serif\" font-size=\"14.00\">samples = 25</text>\n",
       "<text text-anchor=\"middle\" x=\"158\" y=\"-304.8\" font-family=\"Helvetica,sans-Serif\" font-size=\"14.00\">value = [24, 1]</text>\n",
       "</g>\n",
       "<!-- 1&#45;&gt;2 -->\n",
       "<g id=\"edge2\" class=\"edge\">\n",
       "<title>1&#45;&gt;2</title>\n",
       "<path fill=\"none\" stroke=\"black\" d=\"M250.81,-400.6C238.54,-391.53 225.13,-381.61 212.4,-372.21\"/>\n",
       "<polygon fill=\"black\" stroke=\"black\" points=\"214.63,-369.5 204.51,-366.37 210.47,-375.13 214.63,-369.5\"/>\n",
       "</g>\n",
       "<!-- 5 -->\n",
       "<g id=\"node6\" class=\"node\">\n",
       "<title>5</title>\n",
       "<polygon fill=\"none\" stroke=\"black\" points=\"357.5,-357.5 244.5,-357.5 244.5,-304.5 357.5,-304.5 357.5,-357.5\"/>\n",
       "<text text-anchor=\"middle\" x=\"301\" y=\"-342.3\" font-family=\"Helvetica,sans-Serif\" font-size=\"14.00\">gini = 0.0</text>\n",
       "<text text-anchor=\"middle\" x=\"301\" y=\"-327.3\" font-family=\"Helvetica,sans-Serif\" font-size=\"14.00\">samples = 1</text>\n",
       "<text text-anchor=\"middle\" x=\"301\" y=\"-312.3\" font-family=\"Helvetica,sans-Serif\" font-size=\"14.00\">value = [0, 1]</text>\n",
       "</g>\n",
       "<!-- 1&#45;&gt;5 -->\n",
       "<g id=\"edge5\" class=\"edge\">\n",
       "<title>1&#45;&gt;5</title>\n",
       "<path fill=\"none\" stroke=\"black\" d=\"M297.64,-400.6C298.13,-390.47 298.68,-379.28 299.19,-368.93\"/>\n",
       "<polygon fill=\"black\" stroke=\"black\" points=\"302.67,-369.38 299.67,-359.22 295.68,-369.03 302.67,-369.38\"/>\n",
       "</g>\n",
       "<!-- 3 -->\n",
       "<g id=\"node4\" class=\"node\">\n",
       "<title>3</title>\n",
       "<polygon fill=\"none\" stroke=\"black\" points=\"122,-253.5 0,-253.5 0,-200.5 122,-200.5 122,-253.5\"/>\n",
       "<text text-anchor=\"middle\" x=\"61\" y=\"-238.3\" font-family=\"Helvetica,sans-Serif\" font-size=\"14.00\">gini = 0.0</text>\n",
       "<text text-anchor=\"middle\" x=\"61\" y=\"-223.3\" font-family=\"Helvetica,sans-Serif\" font-size=\"14.00\">samples = 23</text>\n",
       "<text text-anchor=\"middle\" x=\"61\" y=\"-208.3\" font-family=\"Helvetica,sans-Serif\" font-size=\"14.00\">value = [23, 0]</text>\n",
       "</g>\n",
       "<!-- 2&#45;&gt;3 -->\n",
       "<g id=\"edge3\" class=\"edge\">\n",
       "<title>2&#45;&gt;3</title>\n",
       "<path fill=\"none\" stroke=\"black\" d=\"M126.24,-296.6C115.67,-285.49 103.9,-273.11 93.29,-261.95\"/>\n",
       "<polygon fill=\"black\" stroke=\"black\" points=\"95.92,-259.64 86.49,-254.8 90.84,-264.46 95.92,-259.64\"/>\n",
       "</g>\n",
       "<!-- 4 -->\n",
       "<g id=\"node5\" class=\"node\">\n",
       "<title>4</title>\n",
       "<polygon fill=\"none\" stroke=\"black\" points=\"253.5,-253.5 140.5,-253.5 140.5,-200.5 253.5,-200.5 253.5,-253.5\"/>\n",
       "<text text-anchor=\"middle\" x=\"197\" y=\"-238.3\" font-family=\"Helvetica,sans-Serif\" font-size=\"14.00\">gini = 0.5</text>\n",
       "<text text-anchor=\"middle\" x=\"197\" y=\"-223.3\" font-family=\"Helvetica,sans-Serif\" font-size=\"14.00\">samples = 2</text>\n",
       "<text text-anchor=\"middle\" x=\"197\" y=\"-208.3\" font-family=\"Helvetica,sans-Serif\" font-size=\"14.00\">value = [1, 1]</text>\n",
       "</g>\n",
       "<!-- 2&#45;&gt;4 -->\n",
       "<g id=\"edge4\" class=\"edge\">\n",
       "<title>2&#45;&gt;4</title>\n",
       "<path fill=\"none\" stroke=\"black\" d=\"M170.77,-296.6C174.73,-286.25 179.11,-274.8 183.13,-264.27\"/>\n",
       "<polygon fill=\"black\" stroke=\"black\" points=\"186.33,-265.71 186.63,-255.12 179.79,-263.21 186.33,-265.71\"/>\n",
       "</g>\n",
       "<!-- 7 -->\n",
       "<g id=\"node8\" class=\"node\">\n",
       "<title>7</title>\n",
       "<polygon fill=\"none\" stroke=\"black\" points=\"515.5,-365 384.5,-365 384.5,-297 515.5,-297 515.5,-365\"/>\n",
       "<text text-anchor=\"middle\" x=\"450\" y=\"-349.8\" font-family=\"Helvetica,sans-Serif\" font-size=\"14.00\">Corners &lt;= 4.5</text>\n",
       "<text text-anchor=\"middle\" x=\"450\" y=\"-334.8\" font-family=\"Helvetica,sans-Serif\" font-size=\"14.00\">gini = 0.43</text>\n",
       "<text text-anchor=\"middle\" x=\"450\" y=\"-319.8\" font-family=\"Helvetica,sans-Serif\" font-size=\"14.00\">samples = 67</text>\n",
       "<text text-anchor=\"middle\" x=\"450\" y=\"-304.8\" font-family=\"Helvetica,sans-Serif\" font-size=\"14.00\">value = [21, 46]</text>\n",
       "</g>\n",
       "<!-- 6&#45;&gt;7 -->\n",
       "<g id=\"edge7\" class=\"edge\">\n",
       "<title>6&#45;&gt;7</title>\n",
       "<path fill=\"none\" stroke=\"black\" d=\"M453.36,-400.6C452.99,-393.03 452.59,-384.87 452.2,-376.9\"/>\n",
       "<polygon fill=\"black\" stroke=\"black\" points=\"455.7,-376.8 451.71,-366.99 448.71,-377.14 455.7,-376.8\"/>\n",
       "</g>\n",
       "<!-- 20 -->\n",
       "<g id=\"node21\" class=\"node\">\n",
       "<title>20</title>\n",
       "<polygon fill=\"none\" stroke=\"black\" points=\"646.5,-357.5 533.5,-357.5 533.5,-304.5 646.5,-304.5 646.5,-357.5\"/>\n",
       "<text text-anchor=\"middle\" x=\"590\" y=\"-342.3\" font-family=\"Helvetica,sans-Serif\" font-size=\"14.00\">gini = 0.0</text>\n",
       "<text text-anchor=\"middle\" x=\"590\" y=\"-327.3\" font-family=\"Helvetica,sans-Serif\" font-size=\"14.00\">samples = 3</text>\n",
       "<text text-anchor=\"middle\" x=\"590\" y=\"-312.3\" font-family=\"Helvetica,sans-Serif\" font-size=\"14.00\">value = [3, 0]</text>\n",
       "</g>\n",
       "<!-- 6&#45;&gt;20 -->\n",
       "<g id=\"edge20\" class=\"edge\">\n",
       "<title>6&#45;&gt;20</title>\n",
       "<path fill=\"none\" stroke=\"black\" d=\"M499.2,-400.6C514.63,-388.94 531.91,-375.89 547.22,-364.32\"/>\n",
       "<polygon fill=\"black\" stroke=\"black\" points=\"548.9,-367.44 554.77,-358.62 544.68,-361.85 548.9,-367.44\"/>\n",
       "</g>\n",
       "<!-- 8 -->\n",
       "<g id=\"node9\" class=\"node\">\n",
       "<title>8</title>\n",
       "<polygon fill=\"none\" stroke=\"black\" points=\"484,-261 340,-261 340,-193 484,-193 484,-261\"/>\n",
       "<text text-anchor=\"middle\" x=\"412\" y=\"-245.8\" font-family=\"Helvetica,sans-Serif\" font-size=\"14.00\">Attempts &lt;= 12.5</text>\n",
       "<text text-anchor=\"middle\" x=\"412\" y=\"-230.8\" font-family=\"Helvetica,sans-Serif\" font-size=\"14.00\">gini = 0.499</text>\n",
       "<text text-anchor=\"middle\" x=\"412\" y=\"-215.8\" font-family=\"Helvetica,sans-Serif\" font-size=\"14.00\">samples = 31</text>\n",
       "<text text-anchor=\"middle\" x=\"412\" y=\"-200.8\" font-family=\"Helvetica,sans-Serif\" font-size=\"14.00\">value = [15, 16]</text>\n",
       "</g>\n",
       "<!-- 7&#45;&gt;8 -->\n",
       "<g id=\"edge8\" class=\"edge\">\n",
       "<title>7&#45;&gt;8</title>\n",
       "<path fill=\"none\" stroke=\"black\" d=\"M437.56,-296.6C434.64,-288.76 431.48,-280.29 428.42,-272.07\"/>\n",
       "<polygon fill=\"black\" stroke=\"black\" points=\"431.77,-271.04 425,-262.89 425.21,-273.48 431.77,-271.04\"/>\n",
       "</g>\n",
       "<!-- 13 -->\n",
       "<g id=\"node14\" class=\"node\">\n",
       "<title>13</title>\n",
       "<polygon fill=\"none\" stroke=\"black\" points=\"759.5,-261 502.5,-261 502.5,-193 759.5,-193 759.5,-261\"/>\n",
       "<text text-anchor=\"middle\" x=\"631\" y=\"-245.8\" font-family=\"Helvetica,sans-Serif\" font-size=\"14.00\">Distance Covered (Kms) &lt;= 101.5</text>\n",
       "<text text-anchor=\"middle\" x=\"631\" y=\"-230.8\" font-family=\"Helvetica,sans-Serif\" font-size=\"14.00\">gini = 0.278</text>\n",
       "<text text-anchor=\"middle\" x=\"631\" y=\"-215.8\" font-family=\"Helvetica,sans-Serif\" font-size=\"14.00\">samples = 36</text>\n",
       "<text text-anchor=\"middle\" x=\"631\" y=\"-200.8\" font-family=\"Helvetica,sans-Serif\" font-size=\"14.00\">value = [6, 30]</text>\n",
       "</g>\n",
       "<!-- 7&#45;&gt;13 -->\n",
       "<g id=\"edge13\" class=\"edge\">\n",
       "<title>7&#45;&gt;13</title>\n",
       "<path fill=\"none\" stroke=\"black\" d=\"M509.27,-296.6C525.99,-287.18 544.33,-276.84 561.59,-267.12\"/>\n",
       "<polygon fill=\"black\" stroke=\"black\" points=\"563.29,-270.18 570.28,-262.22 559.85,-264.08 563.29,-270.18\"/>\n",
       "</g>\n",
       "<!-- 9 -->\n",
       "<g id=\"node10\" class=\"node\">\n",
       "<title>9</title>\n",
       "<polygon fill=\"none\" stroke=\"black\" points=\"356.5,-157 201.5,-157 201.5,-89 356.5,-89 356.5,-157\"/>\n",
       "<text text-anchor=\"middle\" x=\"279\" y=\"-141.8\" font-family=\"Helvetica,sans-Serif\" font-size=\"14.00\">Goal Scored &lt;= 3.5</text>\n",
       "<text text-anchor=\"middle\" x=\"279\" y=\"-126.8\" font-family=\"Helvetica,sans-Serif\" font-size=\"14.00\">gini = 0.488</text>\n",
       "<text text-anchor=\"middle\" x=\"279\" y=\"-111.8\" font-family=\"Helvetica,sans-Serif\" font-size=\"14.00\">samples = 26</text>\n",
       "<text text-anchor=\"middle\" x=\"279\" y=\"-96.8\" font-family=\"Helvetica,sans-Serif\" font-size=\"14.00\">value = [15, 11]</text>\n",
       "</g>\n",
       "<!-- 8&#45;&gt;9 -->\n",
       "<g id=\"edge9\" class=\"edge\">\n",
       "<title>8&#45;&gt;9</title>\n",
       "<path fill=\"none\" stroke=\"black\" d=\"M368.45,-192.6C356.62,-183.53 343.69,-173.61 331.43,-164.21\"/>\n",
       "<polygon fill=\"black\" stroke=\"black\" points=\"333.91,-161.7 323.85,-158.39 329.65,-167.26 333.91,-161.7\"/>\n",
       "</g>\n",
       "<!-- 12 -->\n",
       "<g id=\"node13\" class=\"node\">\n",
       "<title>12</title>\n",
       "<polygon fill=\"none\" stroke=\"black\" points=\"487.5,-149.5 374.5,-149.5 374.5,-96.5 487.5,-96.5 487.5,-149.5\"/>\n",
       "<text text-anchor=\"middle\" x=\"431\" y=\"-134.3\" font-family=\"Helvetica,sans-Serif\" font-size=\"14.00\">gini = 0.0</text>\n",
       "<text text-anchor=\"middle\" x=\"431\" y=\"-119.3\" font-family=\"Helvetica,sans-Serif\" font-size=\"14.00\">samples = 5</text>\n",
       "<text text-anchor=\"middle\" x=\"431\" y=\"-104.3\" font-family=\"Helvetica,sans-Serif\" font-size=\"14.00\">value = [0, 5]</text>\n",
       "</g>\n",
       "<!-- 8&#45;&gt;12 -->\n",
       "<g id=\"edge12\" class=\"edge\">\n",
       "<title>8&#45;&gt;12</title>\n",
       "<path fill=\"none\" stroke=\"black\" d=\"M418.22,-192.6C420.11,-182.47 422.19,-171.28 424.12,-160.93\"/>\n",
       "<polygon fill=\"black\" stroke=\"black\" points=\"427.54,-161.67 425.93,-151.19 420.66,-160.38 427.54,-161.67\"/>\n",
       "</g>\n",
       "<!-- 10 -->\n",
       "<g id=\"node11\" class=\"node\">\n",
       "<title>10</title>\n",
       "<polygon fill=\"none\" stroke=\"black\" points=\"250,-53 128,-53 128,0 250,0 250,-53\"/>\n",
       "<text text-anchor=\"middle\" x=\"189\" y=\"-37.8\" font-family=\"Helvetica,sans-Serif\" font-size=\"14.00\">gini = 0.454</text>\n",
       "<text text-anchor=\"middle\" x=\"189\" y=\"-22.8\" font-family=\"Helvetica,sans-Serif\" font-size=\"14.00\">samples = 23</text>\n",
       "<text text-anchor=\"middle\" x=\"189\" y=\"-7.8\" font-family=\"Helvetica,sans-Serif\" font-size=\"14.00\">value = [15, 8]</text>\n",
       "</g>\n",
       "<!-- 9&#45;&gt;10 -->\n",
       "<g id=\"edge10\" class=\"edge\">\n",
       "<title>9&#45;&gt;10</title>\n",
       "<path fill=\"none\" stroke=\"black\" d=\"M247.27,-88.68C238.91,-79.9 229.88,-70.42 221.48,-61.6\"/>\n",
       "<polygon fill=\"black\" stroke=\"black\" points=\"224.14,-59.32 214.7,-54.49 219.07,-64.15 224.14,-59.32\"/>\n",
       "</g>\n",
       "<!-- 11 -->\n",
       "<g id=\"node12\" class=\"node\">\n",
       "<title>11</title>\n",
       "<polygon fill=\"none\" stroke=\"black\" points=\"381.5,-53 268.5,-53 268.5,0 381.5,0 381.5,-53\"/>\n",
       "<text text-anchor=\"middle\" x=\"325\" y=\"-37.8\" font-family=\"Helvetica,sans-Serif\" font-size=\"14.00\">gini = 0.0</text>\n",
       "<text text-anchor=\"middle\" x=\"325\" y=\"-22.8\" font-family=\"Helvetica,sans-Serif\" font-size=\"14.00\">samples = 3</text>\n",
       "<text text-anchor=\"middle\" x=\"325\" y=\"-7.8\" font-family=\"Helvetica,sans-Serif\" font-size=\"14.00\">value = [0, 3]</text>\n",
       "</g>\n",
       "<!-- 9&#45;&gt;11 -->\n",
       "<g id=\"edge11\" class=\"edge\">\n",
       "<title>9&#45;&gt;11</title>\n",
       "<path fill=\"none\" stroke=\"black\" d=\"M295.22,-88.68C299.18,-80.54 303.44,-71.79 307.47,-63.52\"/>\n",
       "<polygon fill=\"black\" stroke=\"black\" points=\"310.5,-65.28 311.73,-54.75 304.21,-62.21 310.5,-65.28\"/>\n",
       "</g>\n",
       "<!-- 14 -->\n",
       "<g id=\"node15\" class=\"node\">\n",
       "<title>14</title>\n",
       "<polygon fill=\"none\" stroke=\"black\" points=\"681.5,-157 542.5,-157 542.5,-89 681.5,-89 681.5,-157\"/>\n",
       "<text text-anchor=\"middle\" x=\"612\" y=\"-141.8\" font-family=\"Helvetica,sans-Serif\" font-size=\"14.00\">Off&#45;Target &lt;= 7.5</text>\n",
       "<text text-anchor=\"middle\" x=\"612\" y=\"-126.8\" font-family=\"Helvetica,sans-Serif\" font-size=\"14.00\">gini = 0.49</text>\n",
       "<text text-anchor=\"middle\" x=\"612\" y=\"-111.8\" font-family=\"Helvetica,sans-Serif\" font-size=\"14.00\">samples = 7</text>\n",
       "<text text-anchor=\"middle\" x=\"612\" y=\"-96.8\" font-family=\"Helvetica,sans-Serif\" font-size=\"14.00\">value = [3, 4]</text>\n",
       "</g>\n",
       "<!-- 13&#45;&gt;14 -->\n",
       "<g id=\"edge14\" class=\"edge\">\n",
       "<title>13&#45;&gt;14</title>\n",
       "<path fill=\"none\" stroke=\"black\" d=\"M624.78,-192.6C623.35,-184.94 621.81,-176.68 620.31,-168.63\"/>\n",
       "<polygon fill=\"black\" stroke=\"black\" points=\"623.78,-168.15 618.51,-158.96 616.9,-169.43 623.78,-168.15\"/>\n",
       "</g>\n",
       "<!-- 17 -->\n",
       "<g id=\"node18\" class=\"node\">\n",
       "<title>17</title>\n",
       "<polygon fill=\"none\" stroke=\"black\" points=\"850,-157 700,-157 700,-89 850,-89 850,-157\"/>\n",
       "<text text-anchor=\"middle\" x=\"775\" y=\"-141.8\" font-family=\"Helvetica,sans-Serif\" font-size=\"14.00\">Free Kicks &lt;= 10.5</text>\n",
       "<text text-anchor=\"middle\" x=\"775\" y=\"-126.8\" font-family=\"Helvetica,sans-Serif\" font-size=\"14.00\">gini = 0.185</text>\n",
       "<text text-anchor=\"middle\" x=\"775\" y=\"-111.8\" font-family=\"Helvetica,sans-Serif\" font-size=\"14.00\">samples = 29</text>\n",
       "<text text-anchor=\"middle\" x=\"775\" y=\"-96.8\" font-family=\"Helvetica,sans-Serif\" font-size=\"14.00\">value = [3, 26]</text>\n",
       "</g>\n",
       "<!-- 13&#45;&gt;17 -->\n",
       "<g id=\"edge17\" class=\"edge\">\n",
       "<title>13&#45;&gt;17</title>\n",
       "<path fill=\"none\" stroke=\"black\" d=\"M678.15,-192.6C691.08,-183.44 705.23,-173.42 718.62,-163.94\"/>\n",
       "<polygon fill=\"black\" stroke=\"black\" points=\"720.37,-166.98 726.51,-158.35 716.32,-161.27 720.37,-166.98\"/>\n",
       "</g>\n",
       "<!-- 15 -->\n",
       "<g id=\"node16\" class=\"node\">\n",
       "<title>15</title>\n",
       "<polygon fill=\"none\" stroke=\"black\" points=\"545.5,-53 432.5,-53 432.5,0 545.5,0 545.5,-53\"/>\n",
       "<text text-anchor=\"middle\" x=\"489\" y=\"-37.8\" font-family=\"Helvetica,sans-Serif\" font-size=\"14.00\">gini = 0.0</text>\n",
       "<text text-anchor=\"middle\" x=\"489\" y=\"-22.8\" font-family=\"Helvetica,sans-Serif\" font-size=\"14.00\">samples = 4</text>\n",
       "<text text-anchor=\"middle\" x=\"489\" y=\"-7.8\" font-family=\"Helvetica,sans-Serif\" font-size=\"14.00\">value = [0, 4]</text>\n",
       "</g>\n",
       "<!-- 14&#45;&gt;15 -->\n",
       "<g id=\"edge15\" class=\"edge\">\n",
       "<title>14&#45;&gt;15</title>\n",
       "<path fill=\"none\" stroke=\"black\" d=\"M568.63,-88.68C556.62,-79.45 543.59,-69.44 531.62,-60.24\"/>\n",
       "<polygon fill=\"black\" stroke=\"black\" points=\"533.97,-57.63 523.9,-54.32 529.7,-63.18 533.97,-57.63\"/>\n",
       "</g>\n",
       "<!-- 16 -->\n",
       "<g id=\"node17\" class=\"node\">\n",
       "<title>16</title>\n",
       "<polygon fill=\"none\" stroke=\"black\" points=\"676.5,-53 563.5,-53 563.5,0 676.5,0 676.5,-53\"/>\n",
       "<text text-anchor=\"middle\" x=\"620\" y=\"-37.8\" font-family=\"Helvetica,sans-Serif\" font-size=\"14.00\">gini = 0.0</text>\n",
       "<text text-anchor=\"middle\" x=\"620\" y=\"-22.8\" font-family=\"Helvetica,sans-Serif\" font-size=\"14.00\">samples = 3</text>\n",
       "<text text-anchor=\"middle\" x=\"620\" y=\"-7.8\" font-family=\"Helvetica,sans-Serif\" font-size=\"14.00\">value = [3, 0]</text>\n",
       "</g>\n",
       "<!-- 14&#45;&gt;16 -->\n",
       "<g id=\"edge16\" class=\"edge\">\n",
       "<title>14&#45;&gt;16</title>\n",
       "<path fill=\"none\" stroke=\"black\" d=\"M614.82,-88.68C615.48,-80.9 616.19,-72.56 616.86,-64.63\"/>\n",
       "<polygon fill=\"black\" stroke=\"black\" points=\"620.32,-65.16 617.68,-54.9 613.35,-64.57 620.32,-65.16\"/>\n",
       "</g>\n",
       "<!-- 18 -->\n",
       "<g id=\"node19\" class=\"node\">\n",
       "<title>18</title>\n",
       "<polygon fill=\"none\" stroke=\"black\" points=\"823.5,-53 710.5,-53 710.5,0 823.5,0 823.5,-53\"/>\n",
       "<text text-anchor=\"middle\" x=\"767\" y=\"-37.8\" font-family=\"Helvetica,sans-Serif\" font-size=\"14.00\">gini = 0.48</text>\n",
       "<text text-anchor=\"middle\" x=\"767\" y=\"-22.8\" font-family=\"Helvetica,sans-Serif\" font-size=\"14.00\">samples = 5</text>\n",
       "<text text-anchor=\"middle\" x=\"767\" y=\"-7.8\" font-family=\"Helvetica,sans-Serif\" font-size=\"14.00\">value = [2, 3]</text>\n",
       "</g>\n",
       "<!-- 17&#45;&gt;18 -->\n",
       "<g id=\"edge18\" class=\"edge\">\n",
       "<title>17&#45;&gt;18</title>\n",
       "<path fill=\"none\" stroke=\"black\" d=\"M772.18,-88.68C771.52,-80.9 770.81,-72.56 770.14,-64.63\"/>\n",
       "<polygon fill=\"black\" stroke=\"black\" points=\"773.65,-64.57 769.32,-54.9 766.68,-65.16 773.65,-64.57\"/>\n",
       "</g>\n",
       "<!-- 19 -->\n",
       "<g id=\"node20\" class=\"node\">\n",
       "<title>19</title>\n",
       "<polygon fill=\"none\" stroke=\"black\" points=\"964,-53 842,-53 842,0 964,0 964,-53\"/>\n",
       "<text text-anchor=\"middle\" x=\"903\" y=\"-37.8\" font-family=\"Helvetica,sans-Serif\" font-size=\"14.00\">gini = 0.08</text>\n",
       "<text text-anchor=\"middle\" x=\"903\" y=\"-22.8\" font-family=\"Helvetica,sans-Serif\" font-size=\"14.00\">samples = 24</text>\n",
       "<text text-anchor=\"middle\" x=\"903\" y=\"-7.8\" font-family=\"Helvetica,sans-Serif\" font-size=\"14.00\">value = [1, 23]</text>\n",
       "</g>\n",
       "<!-- 17&#45;&gt;19 -->\n",
       "<g id=\"edge19\" class=\"edge\">\n",
       "<title>17&#45;&gt;19</title>\n",
       "<path fill=\"none\" stroke=\"black\" d=\"M820.13,-88.68C832.75,-79.36 846.46,-69.24 859.02,-59.97\"/>\n",
       "<polygon fill=\"black\" stroke=\"black\" points=\"860.74,-63.05 866.71,-54.29 856.59,-57.42 860.74,-63.05\"/>\n",
       "</g>\n",
       "</g>\n",
       "</svg>\n"
      ],
      "text/plain": [
       "<graphviz.files.Source at 0x7374a5c1ba90>"
      ]
     },
     "execution_count": 2,
     "metadata": {},
     "output_type": "execute_result"
    }
   ],
   "source": [
    "from sklearn import tree\n",
    "import graphviz\n",
    "\n",
    "tree_graph = tree.export_graphviz(tree_model, out_file=None, feature_names=feature_names)\n",
    "graphviz.Source(tree_graph)"
   ]
  },
  {
   "cell_type": "markdown",
   "id": "7b1c9256",
   "metadata": {
    "papermill": {
     "duration": 0.004236,
     "end_time": "2023-04-20T18:03:29.255006",
     "exception": false,
     "start_time": "2023-04-20T18:03:29.250770",
     "status": "completed"
    },
    "tags": []
   },
   "source": [
    "As guidance to read the tree:\n",
    "- Leaves with children show their splitting criterion on the top\n",
    "- The pair of values at the bottom show the count of False values and True values for the target respectively, of data points in that node of the tree."
   ]
  },
  {
   "cell_type": "markdown",
   "id": "a7e1a1d0",
   "metadata": {
    "papermill": {
     "duration": 0.004111,
     "end_time": "2023-04-20T18:03:29.263438",
     "exception": false,
     "start_time": "2023-04-20T18:03:29.259327",
     "status": "completed"
    },
    "tags": []
   },
   "source": [
    "Here is the code to create the Partial Dependence Plot using the scikit-learn library."
   ]
  },
  {
   "cell_type": "code",
   "execution_count": 3,
   "id": "b12954a0",
   "metadata": {
    "execution": {
     "iopub.execute_input": "2023-04-20T18:03:29.273964Z",
     "iopub.status.busy": "2023-04-20T18:03:29.273522Z",
     "iopub.status.idle": "2023-04-20T18:03:29.570475Z",
     "shell.execute_reply": "2023-04-20T18:03:29.569156Z"
    },
    "papermill": {
     "duration": 0.3055,
     "end_time": "2023-04-20T18:03:29.573143",
     "exception": false,
     "start_time": "2023-04-20T18:03:29.267643",
     "status": "completed"
    },
    "tags": []
   },
   "outputs": [
    {
     "data": {
      "image/png": "[encoded data removed]",
      "text/plain": [
       "<Figure size 640x480 with 2 Axes>"
      ]
     },
     "metadata": {},
     "output_type": "display_data"
    }
   ],
   "source": [
    "from matplotlib import pyplot as plt\n",
    "from sklearn.inspection import PartialDependenceDisplay\n",
    "\n",
    "# Create and plot the data\n",
    "disp1 = PartialDependenceDisplay.from_estimator(tree_model, val_X, ['Goal Scored'])\n",
    "plt.show()"
   ]
  },
  {
   "cell_type": "markdown",
   "id": "f6014546",
   "metadata": {
    "papermill": {
     "duration": 0.004695,
     "end_time": "2023-04-20T18:03:29.582752",
     "exception": false,
     "start_time": "2023-04-20T18:03:29.578057",
     "status": "completed"
    },
    "tags": []
   },
   "source": [
    "The y axis is interpreted as **change in the prediction** from what it would be predicted at the baseline or leftmost value.\n",
    "\n",
    "From this particular graph, we see that scoring a goal substantially increases your chances of winning \"Man of The Match.\"  But extra goals beyond that appear to have little impact on predictions.\n",
    "\n",
    "Here is another example plot:"
   ]
  },
  {
   "cell_type": "code",
   "execution_count": 4,
   "id": "15a50ca8",
   "metadata": {
    "execution": {
     "iopub.execute_input": "2023-04-20T18:03:29.595060Z",
     "iopub.status.busy": "2023-04-20T18:03:29.593859Z",
     "iopub.status.idle": "2023-04-20T18:03:29.869396Z",
     "shell.execute_reply": "2023-04-20T18:03:29.868221Z"
    },
    "papermill": {
     "duration": 0.284702,
     "end_time": "2023-04-20T18:03:29.872314",
     "exception": false,
     "start_time": "2023-04-20T18:03:29.587612",
     "status": "completed"
    },
    "tags": []
   },
   "outputs": [
    {
     "data": {
      "image/png": "[encoded data removed]",
      "text/plain": [
       "<Figure size 640x480 with 2 Axes>"
      ]
     },
     "metadata": {},
     "output_type": "display_data"
    }
   ],
   "source": [
    "feature_to_plot = 'Distance Covered (Kms)'\n",
    "disp2 = PartialDependenceDisplay.from_estimator(tree_model, val_X, [feature_to_plot])\n",
    "plt.show()"
   ]
  },
  {
   "cell_type": "markdown",
   "id": "1d1a2333",
   "metadata": {
    "papermill": {
     "duration": 0.005086,
     "end_time": "2023-04-20T18:03:29.882834",
     "exception": false,
     "start_time": "2023-04-20T18:03:29.877748",
     "status": "completed"
    },
    "tags": []
   },
   "source": [
    "This graph seems too simple to represent reality. But that's because the model is so simple. You should be able to see from the decision tree above that this is representing exactly the model's structure.\n",
    "\n",
    "You can easily compare the structure or implications of different models. Here is the same plot with a Random Forest model."
   ]
  },
  {
   "cell_type": "code",
   "execution_count": 5,
   "id": "da69474c",
   "metadata": {
    "execution": {
     "iopub.execute_input": "2023-04-20T18:03:29.895155Z",
     "iopub.status.busy": "2023-04-20T18:03:29.894710Z",
     "iopub.status.idle": "2023-04-20T18:03:30.538506Z",
     "shell.execute_reply": "2023-04-20T18:03:30.537222Z"
    },
    "papermill": {
     "duration": 0.653717,
     "end_time": "2023-04-20T18:03:30.541810",
     "exception": false,
     "start_time": "2023-04-20T18:03:29.888093",
     "status": "completed"
    },
    "tags": []
   },
   "outputs": [
    {
     "data": {
      "image/png": "[encoded data removed]",
      "text/plain": [
       "<Figure size 640x480 with 2 Axes>"
      ]
     },
     "metadata": {},
     "output_type": "display_data"
    }
   ],
   "source": [
    "# Build Random Forest model\n",
    "rf_model = RandomForestClassifier(random_state=0).fit(train_X, train_y)\n",
    "\n",
    "disp3 = PartialDependenceDisplay.from_estimator(rf_model, val_X, [feature_to_plot])\n",
    "plt.show()"
   ]
  },
  {
   "cell_type": "markdown",
   "id": "dd57d7da",
   "metadata": {
    "papermill": {
     "duration": 0.005603,
     "end_time": "2023-04-20T18:03:30.553433",
     "exception": false,
     "start_time": "2023-04-20T18:03:30.547830",
     "status": "completed"
    },
    "tags": []
   },
   "source": [
    "This model thinks you are more likely to win *Man of the Match* if your players run a total of 100km over the course of the game. Though running much more causes lower predictions.\n",
    "\n",
    "In general, the smooth shape of this curve seems more plausible than the step function from the Decision Tree model.  Though this dataset is small enough that we would be careful in how we interpret any model.\n",
    "\n",
    "# 2D Partial Dependence Plots\n",
    "If you are curious about interactions between features, 2D partial dependence plots are also useful. An example may clarify this.  \n",
    "\n",
    "We will again use the Decision Tree model for this graph.  It will create an extremely simple plot, but you should be able to match what you see in the plot to the tree itself."
   ]
  },
  {
   "cell_type": "code",
   "execution_count": 6,
   "id": "2b922fac",
   "metadata": {
    "execution": {
     "iopub.execute_input": "2023-04-20T18:03:30.567844Z",
     "iopub.status.busy": "2023-04-20T18:03:30.566964Z",
     "iopub.status.idle": "2023-04-20T18:03:31.065642Z",
     "shell.execute_reply": "2023-04-20T18:03:31.064311Z"
    },
    "papermill": {
     "duration": 0.508997,
     "end_time": "2023-04-20T18:03:31.068425",
     "exception": false,
     "start_time": "2023-04-20T18:03:30.559428",
     "status": "completed"
    },
    "tags": []
   },
   "outputs": [
    {
     "data": {
      "image/png": "[encoded data removed]",
      "text/plain": [
       "<Figure size 800x600 with 2 Axes>"
      ]
     },
     "metadata": {},
     "output_type": "display_data"
    }
   ],
   "source": [
    "fig, ax = plt.subplots(figsize=(8, 6))\n",
    "f_names = [('Goal Scored', 'Distance Covered (Kms)')]\n",
    "# Similar to previous PDP plot except we use tuple of features instead of single feature\n",
    "disp4 = PartialDependenceDisplay.from_estimator(tree_model, val_X, f_names, ax=ax)\n",
    "plt.show()"
   ]
  },
  {
   "cell_type": "markdown",
   "id": "6db35b74",
   "metadata": {
    "papermill": {
     "duration": 0.00612,
     "end_time": "2023-04-20T18:03:31.081346",
     "exception": false,
     "start_time": "2023-04-20T18:03:31.075226",
     "status": "completed"
    },
    "tags": []
   },
   "source": [
    "This graph shows predictions for any combination of Goals Scored and Distance covered. \n",
    "\n",
    "For example, we see the highest predictions when a team scores at least 1 goal and they run a total distance close to 100km.  If they score 0 goals, distance covered doesn't matter. Can you see this by tracing through the decision tree with 0 goals?\n",
    "\n",
    "But distance can impact predictions if they score goals. Make sure you can see this from the 2D partial dependence plot. Can you see this pattern in the decision tree too?"
   ]
  },
  {
   "cell_type": "markdown",
   "id": "afdeaf73",
   "metadata": {
    "papermill": {
     "duration": 0.006098,
     "end_time": "2023-04-20T18:03:31.093907",
     "exception": false,
     "start_time": "2023-04-20T18:03:31.087809",
     "status": "completed"
    },
    "tags": []
   },
   "source": [
    "# Your Turn\n",
    "**[Test your understanding](https://www.kaggle.com/kernels/fork/1637380)** on conceptual questions and a short coding challenge."
   ]
  },
  {
   "cell_type": "markdown",
   "id": "467da97f",
   "metadata": {
    "papermill": {
     "duration": 0.006415,
     "end_time": "2023-04-20T18:03:31.106879",
     "exception": false,
     "start_time": "2023-04-20T18:03:31.100464",
     "status": "completed"
    },
    "tags": []
   },
   "source": [
    "---\n",
    "\n",
    "\n",
    "\n",
    "\n",
    "*Have questions or comments? Visit the [course discussion forum](https://www.kaggle.com/learn/machine-learning-explainability/discussion) to chat with other learners.*"
   ]
  }
 ],
 "metadata": {
  "kernelspec": {
   "display_name": "Python 3 (ipykernel)",
   "language": "python",
   "name": "python3"
  },
  "language_info": {
   "codemirror_mode": {
    "name": "ipython",
    "version": 3
   },
   "file_extension": ".py",
   "mimetype": "text/x-python",
   "name": "python",
   "nbconvert_exporter": "python",
   "pygments_lexer": "ipython3",
   "version": "3.7.12"
  },
  "papermill": {
   "default_parameters": {},
   "duration": 14.921292,
   "end_time": "2023-04-20T18:03:31.936639",
   "environment_variables": {},
   "exception": null,
   "input_path": "__notebook__.ipynb",
   "output_path": "__notebook__.ipynb",
   "parameters": {},
   "start_time": "2023-04-20T18:03:17.015347",
   "version": "2.4.0"
  }
 },
 "nbformat": 4,
 "nbformat_minor": 5
}
