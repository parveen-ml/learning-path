{
 "cells": [
  {
   "cell_type": "markdown",
   "id": "61f4b6f0",
   "metadata": {
    "papermill": {
     "duration": 0.002579,
     "end_time": "2023-04-21T13:39:31.317954",
     "exception": false,
     "start_time": "2023-04-21T13:39:31.315375",
     "status": "completed"
    },
    "tags": []
   },
   "source": [
    "Machine learning competitions are a great way to improve your data science skills and measure your progress. \n",
    "\n",
    "In the next exercise, you will create and submit predictions for the [House Prices Competition for Kaggle Learn Users](https://www.kaggle.com/c/home-data-for-ml-course). \n",
    "\n",
    "![join competition image](https://storage.googleapis.com/kaggle-media/learn/images/axBzctl.png)\n",
    "\n",
    "# Your Turn \n",
    "Use what you've learned in the course to **[create a submission](https://www.kaggle.com/kernels/fork/1259198)** to a Kaggle competition!"
   ]
  },
  {
   "cell_type": "markdown",
   "id": "aebfc520",
   "metadata": {
    "papermill": {
     "duration": 0.001383,
     "end_time": "2023-04-21T13:39:31.321712",
     "exception": false,
     "start_time": "2023-04-21T13:39:31.320329",
     "status": "completed"
    },
    "tags": []
   },
   "source": [
    "---\n",
    "\n",
    "\n",
    "\n",
    "\n",
    "*Have questions or comments? Visit the [course discussion forum](https://www.kaggle.com/learn/intro-to-machine-learning/discussion) to chat with other learners.*"
   ]
  }
 ],
 "metadata": {
  "kernelspec": {
   "display_name": "Python 3",
   "language": "python",
   "name": "python3"
  },
  "language_info": {
   "codemirror_mode": {
    "name": "ipython",
    "version": 3
   },
   "file_extension": ".py",
   "mimetype": "text/x-python",
   "name": "python",
   "nbconvert_exporter": "python",
   "pygments_lexer": "ipython3",
   "version": "3.7.12"
  },
  "papermill": {
   "default_parameters": {},
   "duration": 11.634586,
   "end_time": "2023-04-21T13:39:32.049627",
   "environment_variables": {},
   "exception": null,
   "input_path": "__notebook__.ipynb",
   "output_path": "__notebook__.ipynb",
   "parameters": {},
   "start_time": "2023-04-21T13:39:20.415041",
   "version": "2.4.0"
  }
 },
 "nbformat": 4,
 "nbformat_minor": 5
}
